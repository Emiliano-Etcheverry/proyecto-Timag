{
 "cells": [
  {
   "cell_type": "markdown",
   "id": "e8a47b31",
   "metadata": {},
   "source": [
    "# Creacion de los Tf Records"
   ]
  },
  {
   "cell_type": "code",
   "execution_count": null,
   "id": "8f19ba5c",
   "metadata": {},
   "outputs": [],
   "source": [
    "# Funciones auxiliares\n",
    "\n",
    "def serialize_example(audio, label):\n",
    "  feature = {\n",
    "      'audio': tf.train.Feature(bytes_list=tf.train.BytesList(value=[audio.numpy()])),\n",
    "      'label': tf.train.Feature(int64_list=tf.train.Int64List(value=label.numpy()))\n",
    "  }\n",
    "  example = tf.train.Example(features=tf.train.Features(feature=feature))\n",
    "  return example.SerializeToString()\n",
    "\n",
    "def save_to_tfrecord(df, audio_folder: Path, label_to_index, num_classes, output_path):\n",
    "  with tf.io.TFRecordWriter(str(output_path)) as writer:\n",
    "    for _, row in df.iterrows():\n",
    "      wav_path = audio_folder / row['fname']\n",
    "      if not wav_path.exists():\n",
    "        continue\n",
    "      audio_binary = tf.io.read_file(str(wav_path))\n",
    "      label = labels_to_multihot(row['labels'], label_to_index, num_classes)\n",
    "      # Convert the NumPy array to a TensorFlow tensor\n",
    "      label_tensor = tf.constant(label, dtype=tf.int64)\n",
    "      example = serialize_example(audio_binary, label_tensor)\n",
    "      writer.write(example)\n",
    "\n",
    "def serialize_example_test(audio):\n",
    "  feature = {\n",
    "      'audio': tf.train.Feature(bytes_list=tf.train.BytesList(value=[audio.numpy()]))\n",
    "  }\n",
    "  example = tf.train.Example(features=tf.train.Features(feature=feature))\n",
    "  return example.SerializeToString()\n",
    "\n",
    "def save_to_tfrecord_test(df, audio_folder: Path, output_path):\n",
    "  with tf.io.TFRecordWriter(str(output_path)) as writer:\n",
    "    for _, row in df.iterrows():\n",
    "      wav_path = audio_folder / row['fname']\n",
    "      if not wav_path.exists():\n",
    "        continue\n",
    "      audio_binary = tf.io.read_file(str(wav_path))\n",
    "      # Convert the NumPy array to a TensorFlow tensor\n",
    "      example = serialize_example_test(audio_binary)\n",
    "      writer.write(example)"
   ]
  },
  {
   "cell_type": "code",
   "execution_count": null,
   "id": "fceb431e",
   "metadata": {},
   "outputs": [],
   "source": [
    "# Utilizar un codigo similar para la creacion de los Tf Records\n",
    "\n",
    "save_to_tfrecord(train_curated_df, base_dir / 'train_curated', label_to_index, len(all_labels), base_dir / 'train_curated.tfrecord')\n",
    "save_to_tfrecord_test(test_df, base_dir / 'test_resampled/test_resampled', base_dir / 'test_resampled.tfrecord')\n",
    "\n"
   ]
  }
 ],
 "metadata": {
  "kernelspec": {
   "display_name": "TAA-py311",
   "language": "python",
   "name": "python3"
  },
  "language_info": {
   "codemirror_mode": {
    "name": "ipython",
    "version": 3
   },
   "file_extension": ".py",
   "mimetype": "text/x-python",
   "name": "python",
   "nbconvert_exporter": "python",
   "pygments_lexer": "ipython3",
   "version": "3.11.11"
  }
 },
 "nbformat": 4,
 "nbformat_minor": 5
}
